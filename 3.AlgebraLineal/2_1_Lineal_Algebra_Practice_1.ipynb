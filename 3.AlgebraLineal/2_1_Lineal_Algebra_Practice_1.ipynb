{
  "nbformat": 4,
  "nbformat_minor": 0,
  "metadata": {
    "colab": {
      "name": "2.1.Lineal Algebra Practice 1.ipynb",
      "provenance": [],
      "include_colab_link": true
    },
    "kernelspec": {
      "name": "python3",
      "display_name": "Python 3"
    }
  },
  "cells": [
    {
      "cell_type": "markdown",
      "metadata": {
        "id": "view-in-github",
        "colab_type": "text"
      },
      "source": [
        "<a href=\"https://colab.research.google.com/github/janobile/Datasciencefem_study_group/blob/master/3.AlgebraLineal/2_1_Lineal_Algebra_Practice_1.ipynb\" target=\"_parent\"><img src=\"https://colab.research.google.com/assets/colab-badge.svg\" alt=\"Open In Colab\"/></a>"
      ]
    },
    {
      "cell_type": "markdown",
      "metadata": {
        "id": "i2NEFcja852e",
        "colab_type": "text"
      },
      "source": [
        "# Pregunta 1.\n",
        "\n",
        "* Imprima la suma de las matrices A y B\n",
        "\n",
        "$$ A =\n",
        "\\left(\\begin{array}{cc} \n",
        "1 & 2\\\\\n",
        "3 & 4\\\\\n",
        "5 & 6\n",
        "\\end{array}\\right) + B =\n",
        "\\left(\\begin{array}{cc} \n",
        "6 & 5\\\\\n",
        "4 & 3\\\\\n",
        "2 & 1 \n",
        "\\end{array}\\right)\n",
        "$$ "
      ]
    },
    {
      "cell_type": "code",
      "metadata": {
        "id": "jDuBCQ2LQa6L",
        "colab_type": "code",
        "colab": {
          "base_uri": "https://localhost:8080/",
          "height": 68
        },
        "outputId": "51a639c6-86aa-47e1-fbd3-ac9a1081c974"
      },
      "source": [
        "# Respuesta 1.\n",
        "import numpy as np\n",
        "a=np.array([[1,2],[3,4],[5,6]])\n",
        "b=np.array([[6,5],[4,3],[2,1]])\n",
        "print(a+b)\n",
        "\n",
        "\n"
      ],
      "execution_count": 1,
      "outputs": [
        {
          "output_type": "stream",
          "text": [
            "[[7 7]\n",
            " [7 7]\n",
            " [7 7]]\n"
          ],
          "name": "stdout"
        }
      ]
    },
    {
      "cell_type": "markdown",
      "metadata": {
        "id": "f_ysniFVMQ1F",
        "colab_type": "text"
      },
      "source": [
        "# Pregunta 2\n",
        "\n",
        "* Imprima la suma de matriz + Escalar.\n",
        "\n",
        "$$ M =\n",
        "\\left(\\begin{array}{cc} \n",
        "6 & 3\\\\\n",
        "9 & 5\\\\\n",
        "4 & 8\n",
        "\\end{array}\\right) + N =\n",
        "\\left(\\begin{array}{cc} \n",
        "2.5 \\\\ \n",
        "\\end{array}\\right)\n",
        "$$ "
      ]
    },
    {
      "cell_type": "code",
      "metadata": {
        "id": "CQWRK9224b0i",
        "colab_type": "code",
        "colab": {
          "base_uri": "https://localhost:8080/",
          "height": 68
        },
        "outputId": "0c578e94-86da-46df-c214-17a2e8b81af4"
      },
      "source": [
        "m=np.array([[6,3],[9,5],[4,8]])\n",
        "n=2.5\n",
        "print(m+n)"
      ],
      "execution_count": 2,
      "outputs": [
        {
          "output_type": "stream",
          "text": [
            "[[ 8.5  5.5]\n",
            " [11.5  7.5]\n",
            " [ 6.5 10.5]]\n"
          ],
          "name": "stdout"
        }
      ]
    },
    {
      "cell_type": "markdown",
      "metadata": {
        "id": "tX6URHxjJgzm",
        "colab_type": "text"
      },
      "source": [
        "# Pregunta 3.\n",
        "\n",
        "* Imprima la  transpuesta de la siguiente matriz  $J$  es decir $J^t$. \n",
        "\n",
        "$$ J =\n",
        "\\left(\\begin{array}{cc} \n",
        "9 & 2 & 3\\\\\n",
        "3 & 7 & 4 \\\\\n",
        "5 & 6 & 9\n",
        "\\end{array}\\right) \n",
        "$$ "
      ]
    },
    {
      "cell_type": "code",
      "metadata": {
        "id": "Y3fS1dHzSmic",
        "colab_type": "code",
        "colab": {
          "base_uri": "https://localhost:8080/",
          "height": 68
        },
        "outputId": "040c84c2-633f-451a-c329-0d8043f29a93"
      },
      "source": [
        "import numpy as np\n",
        "j=np.array([[9,2,3],[3,7,4],[5,6,9]])\n",
        "jt=j.T\n",
        "print(jt)"
      ],
      "execution_count": 3,
      "outputs": [
        {
          "output_type": "stream",
          "text": [
            "[[9 3 5]\n",
            " [2 7 6]\n",
            " [3 4 9]]\n"
          ],
          "name": "stdout"
        }
      ]
    },
    {
      "cell_type": "markdown",
      "metadata": {
        "id": "sx1edpUHLNgH",
        "colab_type": "text"
      },
      "source": [
        "# Pregunta 4.\n",
        "\n",
        "* Para la matriz $J^t$, calcule su transpuesta para obtener la matriz original J.  \n",
        "\n",
        "$$ J =\n",
        "\\left(\\begin{array}{cc} \n",
        "9 & 2 & 3\\\\\n",
        "3 & 7 & 4 \\\\\n",
        "5 & 6 & 9\n",
        "\\end{array}\\right) \n",
        "$$ "
      ]
    },
    {
      "cell_type": "code",
      "metadata": {
        "id": "ku0zlNNO80hf",
        "colab_type": "code",
        "colab": {
          "base_uri": "https://localhost:8080/",
          "height": 68
        },
        "outputId": "623efbcc-ed83-45ea-a259-5ff539236b5b"
      },
      "source": [
        "print(jt.T)\n",
        "\n"
      ],
      "execution_count": 4,
      "outputs": [
        {
          "output_type": "stream",
          "text": [
            "[[9 2 3]\n",
            " [3 7 4]\n",
            " [5 6 9]]\n"
          ],
          "name": "stdout"
        }
      ]
    },
    {
      "cell_type": "markdown",
      "metadata": {
        "id": "qQ5b5m6HKp_u",
        "colab_type": "text"
      },
      "source": [
        "# Pregunta 5.\n",
        "\n",
        "* ¿ Cuales son los valores faltantes ? (en el orden en que aparecen las matrices)\n",
        "\n",
        "$$\n",
        "\\left(\\begin{array}{cc} \n",
        "? & 2\\\\\n",
        "0 & 2\n",
        "\\end{array}\\right)\n",
        "\\left(\\begin{array}{cc} \n",
        "1 & 0 \\\\ \n",
        "1 & ? \n",
        "\\end{array}\\right)\n",
        "$$ \n",
        "\n",
        " * para que la respuesta sea:\n",
        "$\n",
        "\\left(\n",
        " \\begin {array}{ll} \n",
        "1 & 0 \\\\\n",
        "0   & 0\n",
        "\\end{array}\n",
        "\\right)\n",
        "$\n",
        "\n",
        "- [ A ] = 1 y 1\n",
        "- [ B ] = 0 y 1\n",
        "- [ C ] = 1 y 0\n",
        "- [ D ] = 0 y 0\n",
        "\n",
        "* Imprima el resultado y la respuesta."
      ]
    },
    {
      "cell_type": "code",
      "metadata": {
        "id": "mB1C6fZiK5Ws",
        "colab_type": "code",
        "outputId": "56d50dcd-1cea-4758-d6d8-11a26a83810f",
        "colab": {
          "base_uri": "https://localhost:8080/",
          "height": 67
        }
      },
      "source": [
        "# Respuesta 4.\n",
        "'su còdigo aqui'\n",
        "\n",
        "import numpy as np\n",
        "\n",
        "# creacion de matrices \n",
        "A = np.array([[1,2],[0,2]])\n",
        "d = np.array([[1,0],[1,0]])\n",
        "\n",
        "# calculo de producto entre matrices\n",
        "C = A * d\n",
        "# imprimir la respuesta\n",
        "print('la respuesgta es la C:',\"\\n\", C)"
      ],
      "execution_count": 0,
      "outputs": [
        {
          "output_type": "stream",
          "text": [
            "la respuesgta es: \n",
            " [[1 0]\n",
            " [0 0]]\n"
          ],
          "name": "stdout"
        }
      ]
    },
    {
      "cell_type": "markdown",
      "metadata": {
        "id": "9bl0idCRbLBV",
        "colab_type": "text"
      },
      "source": [
        "# Pregunta 5.1\n",
        "\n",
        "* Producto escalar."
      ]
    },
    {
      "cell_type": "markdown",
      "metadata": {
        "id": "XRllz0RrGW-m",
        "colab_type": "text"
      },
      "source": [
        "# Pregunta 6.\n",
        "* ¿ Cual es Producto Punto de las matrices $L$ y $K$ = : ?\n",
        "\n",
        "\n",
        "$$ L =\n",
        "\\left(\\begin{array}{cc} \n",
        "3 & 5 \\\\\n",
        "7 & 1 \\\\\n",
        "\\end{array}\\right) K =\n",
        "\\left(\\begin{array}{cc} \n",
        "3 & 12  \\\\\n",
        "6 & 4  \\\\\n",
        "\\end{array}\\right)\n",
        "$$ "
      ]
    },
    {
      "cell_type": "code",
      "metadata": {
        "id": "lKyBBILZ5UHz",
        "colab_type": "code",
        "colab": {}
      },
      "source": [
        "L=np.array([[3,5],[7,1]])\n",
        "K=np.array([[3,12],[6,4]])\n",
        "print(L.dot(K))"
      ],
      "execution_count": 0,
      "outputs": []
    },
    {
      "cell_type": "markdown",
      "metadata": {
        "id": "qyuXefxfXs8h",
        "colab_type": "text"
      },
      "source": [
        "# Pregunta 7.\n",
        "\n",
        "* ¿ Cual es el determinante de la siguiente matriz ? (imprima la respuesta)\n",
        "\n",
        "$\n",
        "\\left(\n",
        "\\begin {array}{ll} \n",
        "1 & 2 & 0 \\\\\n",
        "1 & 2 & 0 \\\\\n",
        "0 & 1 & 1 \\\\\n",
        "\\end{array}\n",
        "\\right)\n",
        "$\n",
        "\n",
        "- [ A ] = 1 \n",
        "- [ B ] = 0 \n",
        "- [ C ] = 5\n",
        "- [ D ] = -5\n",
        "\n"
      ]
    },
    {
      "cell_type": "code",
      "metadata": {
        "id": "_Za_87JV0Fxa",
        "colab_type": "code",
        "outputId": "cf0754ca-6b3f-47f9-9df2-4ff3cdea04d2",
        "colab": {
          "base_uri": "https://localhost:8080/",
          "height": 34
        }
      },
      "source": [
        "import numpy as np\n",
        "D = np.array([[1,2,0],[1,2,0], [0,1,1] ])\n",
        "\n",
        "np.linalg.det(D)"
      ],
      "execution_count": 0,
      "outputs": [
        {
          "output_type": "execute_result",
          "data": {
            "text/plain": [
              "0.0"
            ]
          },
          "metadata": {
            "tags": []
          },
          "execution_count": 6
        }
      ]
    },
    {
      "cell_type": "markdown",
      "metadata": {
        "id": "YsULSkG8wME_",
        "colab_type": "text"
      },
      "source": [
        "# Pregunta 8.\n",
        "\n",
        "* ¿ Cual es el determinante de la siguiente matriz ? (imprima la respuesta)\n",
        "\n",
        "$\n",
        "\\left(\n",
        "\\begin {array}{ll} \n",
        "0 & 1 & 1 \\\\\n",
        "1 & 0 & 0 \\\\\n",
        "0 & 0 & 1 \\\\\n",
        "\\end{array}\n",
        "\\right)\n",
        "$\n",
        "\n",
        "- [ A ] = 0 \n",
        "- [ B ] = -1 \n",
        "- [ C ] = 3\n",
        "- [ D ] = 1\n"
      ]
    },
    {
      "cell_type": "code",
      "metadata": {
        "id": "WQhgsnY4v_hQ",
        "colab_type": "code",
        "outputId": "7db95b37-f84e-46e8-eb0e-c7bfaa79ccb2",
        "colab": {
          "base_uri": "https://localhost:8080/",
          "height": 34
        }
      },
      "source": [
        "import numpy as np\n",
        "F = np.array([[0,1,1],[1,0,0], [0,0,1] ])\n",
        "\n",
        "np.linalg.det(F)"
      ],
      "execution_count": 0,
      "outputs": [
        {
          "output_type": "execute_result",
          "data": {
            "text/plain": [
              "-1.0"
            ]
          },
          "metadata": {
            "tags": []
          },
          "execution_count": 7
        }
      ]
    }
  ]
}