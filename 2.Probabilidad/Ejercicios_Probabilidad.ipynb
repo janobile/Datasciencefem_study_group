{
  "nbformat": 4,
  "nbformat_minor": 0,
  "metadata": {
    "colab": {
      "name": "Ejercicios Probabilidad.ipynb",
      "provenance": [],
      "include_colab_link": true
    },
    "kernelspec": {
      "name": "python3",
      "display_name": "Python 3"
    }
  },
  "cells": [
    {
      "cell_type": "markdown",
      "metadata": {
        "id": "view-in-github",
        "colab_type": "text"
      },
      "source": [
        "<a href=\"https://colab.research.google.com/github/janobile/Datasciencefem_study_group/blob/master/2.Probabilidad/Ejercicios_Probabilidad.ipynb\" target=\"_parent\"><img src=\"https://colab.research.google.com/assets/colab-badge.svg\" alt=\"Open In Colab\"/></a>"
      ]
    },
    {
      "cell_type": "markdown",
      "metadata": {
        "id": "EIYB8nQyy3bT",
        "colab_type": "text"
      },
      "source": [
        "# 1. In an English deck of cards there are 4 pints (hearts, spades, diamonds and clubs) and 13 cards per pint. That is, in total there are 52 cards. Suppose you choose two random cards. What is the probability that one of them is black since the other is also black?\n",
        "1.\t1/2\n",
        "2.\t25/52\n",
        "3.\t25/51\n",
        "4.\t26/51\n",
        "5.\tNone of above\n"
      ]
    },
    {
      "cell_type": "markdown",
      "metadata": {
        "id": "0k966wnrpYJc",
        "colab_type": "text"
      },
      "source": [
        "a: Sacar una carta negra en el primer intento\n",
        "\n",
        "P(a): Probabilidad de sacar una carta negra en el primer intento"
      ]
    },
    {
      "cell_type": "code",
      "metadata": {
        "id": "MkE8lMRpyoeW",
        "colab_type": "code",
        "outputId": "ba3248ea-cad0-43e3-8be5-26ee7beb2640",
        "colab": {
          "base_uri": "https://localhost:8080/",
          "height": 34
        }
      },
      "source": [
        "p_a = 26/52\n",
        "#Son 56 cartas en total. la mitad son negras la otra mitad rojas"
      ],
      "execution_count": 0,
      "outputs": [
        {
          "output_type": "execute_result",
          "data": {
            "text/plain": [
              "0.4807692307692308"
            ]
          },
          "metadata": {
            "tags": []
          },
          "execution_count": 1
        }
      ]
    },
    {
      "cell_type": "markdown",
      "metadata": {
        "id": "GytQQOgup5pJ",
        "colab_type": "text"
      },
      "source": [
        "b: Sacar una carta negra en el segundo intento\n",
        "\n",
        "P(b): Probabilidad de sacar una carta negra en el segundo intento"
      ]
    },
    {
      "cell_type": "code",
      "metadata": {
        "id": "Gejtw5Dmp6Dg",
        "colab_type": "code",
        "colab": {}
      },
      "source": [
        "p_b = 25/51\n",
        "# como ya sacamos 1 carta, ahora en total son 51 cartas. Y como la anterior carta fue negra, entonces son 25 posibles cartas negras que podemos sacar"
      ],
      "execution_count": 0,
      "outputs": []
    },
    {
      "cell_type": "markdown",
      "metadata": {
        "id": "BcOlrBkVqrcJ",
        "colab_type": "text"
      },
      "source": [
        "P(b|a) = Probabilidad de sacar otra carta negra dado que ya saqué una negra\n",
        "\n",
        "P(b|a) = p(b) * p (a|b)\n",
        "\n",
        "p_b_a = ((p_b*(26/51))/(26/51))"
      ]
    },
    {
      "cell_type": "code",
      "metadata": {
        "id": "sD6SeNgAsONo",
        "colab_type": "code",
        "outputId": "e4f774b1-03c3-4591-8bd0-cec301445e92",
        "colab": {
          "base_uri": "https://localhost:8080/",
          "height": 34
        }
      },
      "source": [
        "p_b_a = ((p_b*(26/51))/(26/51))\n",
        "p_b_a"
      ],
      "execution_count": 0,
      "outputs": [
        {
          "output_type": "execute_result",
          "data": {
            "text/plain": [
              "0.49019607843137253"
            ]
          },
          "metadata": {
            "tags": []
          },
          "execution_count": 4
        }
      ]
    },
    {
      "cell_type": "markdown",
      "metadata": {
        "id": "fITxt8LtzKan",
        "colab_type": "text"
      },
      "source": [
        "# 2. The probability that a Titi monkey likes to eat peanuts is 40%, and the probability of consuming it regularly is 20%. In addition, studies have shown that, among the Titi monkeys that eat peanuts, the probability of dying before 5 years is 5%. What is the probability of dying before 5 years of 5%. What is the probability that a Titi monkey eats peanuts regularly and dies before age 5?\n",
        "1.\t0.1\n",
        "2.\t0.04\n",
        "3.\t0.02\n",
        "4.\t0.01\n",
        "\n",
        "\n",
        "A: Titi monkey likes to eat peanuts \n",
        "\n",
        "P(A) = 0.4\n",
        "\n",
        "\n",
        "B: Consuming peanuts regularly \n",
        "\n",
        "P(B) = 0.2\n",
        "\n",
        "\n",
        "C: Titi monkeys tat eat peanuts and dying before 5 years old \n",
        "\n",
        "P(C) = P(B) * 0.05\n",
        "\n",
        "P(C) = 0.2 * 0.05 = **0.01**"
      ]
    },
    {
      "cell_type": "code",
      "metadata": {
        "id": "PErvp-stzVQh",
        "colab_type": "code",
        "colab": {
          "base_uri": "https://localhost:8080/",
          "height": 34
        },
        "outputId": "1a80d169-875a-4d01-b6c9-50d0e05baa06"
      },
      "source": [
        "p_c = 0.2 * 0.05\n",
        "print(p_c)"
      ],
      "execution_count": 4,
      "outputs": [
        {
          "output_type": "stream",
          "text": [
            "0.010000000000000002\n"
          ],
          "name": "stdout"
        }
      ]
    },
    {
      "cell_type": "markdown",
      "metadata": {
        "id": "0tNirTa2zVtK",
        "colab_type": "text"
      },
      "source": [
        "# 3. If you throw a 6-sided side 3 times. X1, X2 and X3 denote the value of the first, second and third throw.\n",
        "What is P (X1 + X2 + X3 <= 5)\n",
        "1.\t10/36\n",
        "2.\t5/36\n",
        "3.\t10/216\n",
        "4.\t5/216\n",
        "\n",
        "Opciones para que X1+X2+X3 <= 5\n",
        "(3,1,1)x3\n",
        "(2,2,1)x3\n",
        "(2,1,1)x3\n",
        "(1,1,1)\n",
        "Total: 10 opciones\n",
        "\n",
        "Total posibles combinaciones?\n",
        "6x6x6=216\n",
        "\n",
        "Respuesta: 10/216"
      ]
    },
    {
      "cell_type": "code",
      "metadata": {
        "id": "QsFaeWAbz9Ye",
        "colab_type": "code",
        "colab": {}
      },
      "source": [
        ""
      ],
      "execution_count": 0,
      "outputs": []
    },
    {
      "cell_type": "markdown",
      "metadata": {
        "id": "cAmJqNA1z9so",
        "colab_type": "text"
      },
      "source": [
        "# 4. In an English deck of cards there are 4 pints (hearts, spades, diamonds and tremolo) and 13 cards per pints. That is, in total there are 52 cards. Suppose you choose two random cards. What is the probability that one of them is black since the other is red?\n",
        "1.\t1/2\n",
        "2.\t25/52\n",
        "3.\t1/4\n",
        "4.\t26/51\n"
      ]
    },
    {
      "cell_type": "code",
      "metadata": {
        "id": "o24ghvSg0J-B",
        "colab_type": "code",
        "colab": {}
      },
      "source": [
        "26/51"
      ],
      "execution_count": 0,
      "outputs": []
    },
    {
      "cell_type": "markdown",
      "metadata": {
        "id": "RtTbuiQv0KOZ",
        "colab_type": "text"
      },
      "source": [
        "# 5. Cosider a fair coin and fair die. The possible outcome toss is \"head\" or \"tail\", while the possible outcome for the die throw is 1,2,3,4,5 or 6. You toss the coin 4 times and throw the die 2 times.\n",
        "The number of possible outcomes for this experiment is 576\n",
        "\n",
        "\n"
      ]
    },
    {
      "cell_type": "code",
      "metadata": {
        "id": "xls3j4xi0LbB",
        "colab_type": "code",
        "colab": {
          "base_uri": "https://localhost:8080/",
          "height": 34
        },
        "outputId": "4f3fefe9-dcaa-4965-985e-f30f1ae73829"
      },
      "source": [
        "2*2*2*2*6*6"
      ],
      "execution_count": 1,
      "outputs": [
        {
          "output_type": "execute_result",
          "data": {
            "text/plain": [
              "576"
            ]
          },
          "metadata": {
            "tags": []
          },
          "execution_count": 1
        }
      ]
    },
    {
      "cell_type": "markdown",
      "metadata": {
        "id": "c0h2tCEs0__3",
        "colab_type": "text"
      },
      "source": [
        "# 6. A dart is thrown at circular dashboard such that it will land randomly over the area of the dashboard. What is the probability that it lands closer to the center than to the edge? Assume the dart always reaches the dashboard.\n",
        "1.\t25%\n",
        "2.\t50%\n",
        "3.\t10%\n",
        "4.\t33%\n",
        "\n"
      ]
    },
    {
      "cell_type": "code",
      "metadata": {
        "id": "eYFiTSTl1ATV",
        "colab_type": "code",
        "colab": {}
      },
      "source": [
        "0.1"
      ],
      "execution_count": 0,
      "outputs": []
    }
  ]
}